{
 "cells": [
  {
   "cell_type": "code",
   "execution_count": 1,
   "metadata": {},
   "outputs": [],
   "source": [
    "import numpy as np\n",
    "import pandas as pd\n",
    "import matplotlib.pyplot as plt\n",
    "import seaborn as sns\n",
    "from sklearn.preprocessing import PolynomialFeatures"
   ]
  },
  {
   "cell_type": "code",
   "execution_count": null,
   "metadata": {},
   "outputs": [],
   "source": [
    "df1 = pd.read_csv('data/3 - India_GDP_Historical_Data.csv')\n",
    "df2 = pd.read_csv('data/9 - India_Inflation_Rate_Historical_Data.csv')\n",
    "\n",
    "df1.drop('Unnamed: 0', axis = 1, inplace=True)\n",
    "df2.drop('Unnamed: 0', axis = 1, inplace=True)"
   ]
  },
  {
   "cell_type": "code",
   "execution_count": null,
   "metadata": {},
   "outputs": [],
   "source": [
    "df1.head()"
   ]
  },
  {
   "cell_type": "code",
   "execution_count": null,
   "metadata": {},
   "outputs": [],
   "source": []
  },
  {
   "cell_type": "code",
   "execution_count": null,
   "metadata": {},
   "outputs": [],
   "source": [
    "def clean_data(column):\n",
    "    return pd.to_numeric(column.replace('[\\$,B%]', '', regex=True))\n",
    "\n",
    "df1['GDP'] = clean_data(df1['GDP'])\n",
    "df1['Per_Capita'] = clean_data(df1['Per_Capita'])\n",
    "df1['Growth_Rate'] = clean_data(df1['Growth_Rate'])"
   ]
  },
  {
   "cell_type": "code",
   "execution_count": null,
   "metadata": {},
   "outputs": [],
   "source": [
    "df1.describe()"
   ]
  },
  {
   "cell_type": "code",
   "execution_count": null,
   "metadata": {},
   "outputs": [],
   "source": [
    "# Growth over time on yearly basis\n",
    "\n",
    "plt.figure(figsize = (15,9))\n",
    "sns.lineplot(x='year', y='GDP', data = df1, marker= 'o', color = 'pink')\n",
    "plt.title('GDP of India Y-o-Y')\n",
    "plt.xlabel('Year')\n",
    "plt.ylabel('GDP (in billion)')\n",
    "plt.grid(True)\n",
    "plt.show()"
   ]
  },
  {
   "cell_type": "code",
   "execution_count": null,
   "metadata": {},
   "outputs": [],
   "source": [
    "df1['decade'] = (df1['year'] // 10) * 10\n",
    "\n",
    "decade_group = df1.groupby('decade')['Growth_Rate'].mean().reset_index()\n",
    "\n",
    "#plot the date\n",
    "\n",
    "plt.figure(figsize = (15,9))\n",
    "sns.barplot(x='decade', y='Growth_Rate', data = decade_group, color = 'pink')\n",
    "            "
   ]
  },
  {
   "cell_type": "markdown",
   "metadata": {},
   "source": [
    "India's economic growth saw a dip below 3% in the 1970s but recovered in the following decades, reaching above 6% in the 2000s and 2010s. The global slowdown of 2020 impacted the economy, and the future growth trajectory remains to be seen."
   ]
  },
  {
   "cell_type": "code",
   "execution_count": null,
   "metadata": {},
   "outputs": [],
   "source": [
    "plt.figure(figsize=(15,9))\n",
    "sns.lineplot(x='year', y='Per_Capita', data=df1, marker='o', color='pink')\n",
    "plt.title(\"GDP Per capita of India Year-on-Year\")\n",
    "plt.xlabel('Year')\n",
    "plt.ylabel('GDP (in dollars)')\n",
    "plt.grid(True)\n",
    "plt.show()"
   ]
  },
  {
   "cell_type": "code",
   "execution_count": null,
   "metadata": {},
   "outputs": [],
   "source": [
    "decade_group = df1.groupby('decade')['Per_Capita'].mean().reset_index()\n",
    "\n",
    "plt.figure(figsize=(15, 9))\n",
    "sns.barplot(x='decade', y='Per_Capita', data=decade_group , color = 'pink')\n",
    "plt.title('Average Per Capita GDP per Decade')\n",
    "plt.xlabel('Decade')\n",
    "plt.ylabel('Average (in billions) ')\n",
    "plt.show()"
   ]
  },
  {
   "cell_type": "markdown",
   "metadata": {},
   "source": [
    "India's per capita income soared from below $1,000 in the 2000s to over $2,000 in the 2010s, potentially due to the IT sector's rise. While GDP growth is a key metric, it's crucial to analyze inflation alongside per capita income to assess if it effectively translates to improved purchasing power for Indian citizens."
   ]
  },
  {
   "cell_type": "code",
   "execution_count": null,
   "metadata": {},
   "outputs": [],
   "source": [
    "df2.head()"
   ]
  },
  {
   "cell_type": "code",
   "execution_count": null,
   "metadata": {},
   "outputs": [],
   "source": [
    "def clean_data(column):\n",
    "    return pd.to_numeric(column.replace('[B%]', '', regex=True))\n",
    "\n",
    "df2['Inflation_Rate'] = clean_data(df2['Inflation_Rate'])\n",
    "df2['Annual_percent_geowth'] = clean_data(df2['Annual_percent_geowth'])\n"
   ]
  },
  {
   "cell_type": "code",
   "execution_count": null,
   "metadata": {},
   "outputs": [],
   "source": [
    "df2.describe()"
   ]
  },
  {
   "cell_type": "code",
   "execution_count": null,
   "metadata": {},
   "outputs": [],
   "source": [
    "plt.figure(figsize=(15,9))\n",
    "sns.lineplot(x='year', y='Inflation_Rate', data=df2, marker='o', color='pink')\n",
    "plt.title(\"Inflation rate of India Year-on-Year\")\n",
    "plt.xlabel('Year')\n",
    "plt.ylabel('Inflation (in percentage)')\n",
    "plt.grid(True)\n",
    "plt.axhline(y = 0, color = 'purple')\n",
    "plt.show()"
   ]
  },
  {
   "cell_type": "markdown",
   "metadata": {},
   "source": [
    "The 1970s stand out as a decade of extremes, recording both the nation's highest and lowest inflation rates (occurring in 1974 and 1976, respectively)."
   ]
  },
  {
   "cell_type": "code",
   "execution_count": null,
   "metadata": {},
   "outputs": [],
   "source": [
    "highest_inflation_rate = df2['Inflation_Rate'].idxmax()\n",
    "year_high = df2.loc[highest_inflation_rate]\n",
    "\n",
    "lowest_inflation_rate = df2['Inflation_Rate'].idxmin()\n",
    "year_low = df2.loc[lowest_inflation_rate]\n",
    "\n",
    "print(year_high)\n",
    "print(year_low)"
   ]
  },
  {
   "cell_type": "code",
   "execution_count": null,
   "metadata": {},
   "outputs": [],
   "source": [
    "df2['decade'] = (df2['year'] // 10) * 10\n",
    "\n",
    "decade_group = df2.groupby('decade')['Inflation_Rate'].mean().reset_index()\n",
    "\n",
    "plt.figure(figsize=(15, 9))\n",
    "sns.barplot(x='decade', y='Inflation_Rate', data=decade_group, color = 'pink')\n",
    "plt.title('Average Inflation Rate per Decade')\n",
    "plt.xlabel('Decade')\n",
    "plt.ylabel('Average Growth Rate (in percentage)')\n",
    "plt.show()"
   ]
  },
  {
   "cell_type": "markdown",
   "metadata": {},
   "source": [
    "The 1990s were characterized by a relatively elevated inflation rate, approaching 10%. However, a subsequent period of effective policy measures in the 2000s demonstrably curbed inflation, driving it down below 5%. While inflationary pressures reemerged somewhat in the 2010s, exceeding 6%, the overall trajectory reflects a commendable improvement in price stability."
   ]
  },
  {
   "cell_type": "code",
   "execution_count": null,
   "metadata": {},
   "outputs": [],
   "source": [
    "ax = plt.axes(projection='3d')\n",
    "ydata = df2['year']\n",
    "xdata = df2['Inflation_Rate']\n",
    "zdata = df2['Annual_percent_geowth']\n",
    "ax.scatter3D(xdata, ydata, zdata, c=zdata, cmap ='pink')"
   ]
  },
  {
   "cell_type": "code",
   "execution_count": null,
   "metadata": {},
   "outputs": [],
   "source": [
    "df_combined = pd.merge(df1, df2, on = 'year')\n",
    "df_combined + df_combined.sort_values(by= 'year')\n",
    "fig, ax1 = plt.subplots(figsize = (15,9))\n",
    "color = 'tab:pink'\n",
    "ax1.set_xlabel('Year')\n",
    "ax1.set_ylabel('GDP', color = color)\n",
    "ax1.plot(df_combined['year'], df_combined['GDP'], color =color)\n",
    "ax1.tick_params(axis='y', labelcolor=color)\n",
    "\n",
    "ax2 = ax1.twinx()\n",
    "color = 'tab:purple'\n",
    "ax2.set_ylabel('Inflation Change Rate (%)', color=color)\n",
    "ax2.plot(df_combined['year'], df_combined['Annual_percent_geowth'], color=color)\n",
    "ax2.tick_params(axis='y', labelcolor=color)\n",
    "\n",
    "plt.title('GDP vs Inflation Change Rate')\n",
    "plt.show()\n",
    "\n",
    "\n",
    "\n"
   ]
  },
  {
   "cell_type": "code",
   "execution_count": null,
   "metadata": {},
   "outputs": [],
   "source": [
    "# MAchine Learning - statistical eqns solved by computer \n",
    "# y = B0 + B1x1 + c\n",
    "\n",
    "df1.info()"
   ]
  },
  {
   "cell_type": "code",
   "execution_count": null,
   "metadata": {},
   "outputs": [],
   "source": []
  },
  {
   "cell_type": "code",
   "execution_count": null,
   "metadata": {},
   "outputs": [],
   "source": [
    "df1.head()"
   ]
  }
 ],
 "metadata": {
  "kernelspec": {
   "display_name": "Python 3",
   "language": "python",
   "name": "python3"
  },
  "language_info": {
   "codemirror_mode": {
    "name": "ipython",
    "version": 3
   },
   "file_extension": ".py",
   "mimetype": "text/x-python",
   "name": "python",
   "nbconvert_exporter": "python",
   "pygments_lexer": "ipython3",
   "version": "3.12.4"
  }
 },
 "nbformat": 4,
 "nbformat_minor": 2
}
